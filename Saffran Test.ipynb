{
 "cells": [
  {
   "cell_type": "code",
   "execution_count": 1,
   "metadata": {
    "collapsed": true
   },
   "outputs": [],
   "source": [
    "# Open the port for the entire document so that everytime I operate a sketch it won't erase my buffer\n",
    "import serial \n",
    "ser = serial.Serial('/dev/cu.usbmodem1411',9600)"
   ]
  },
  {
   "cell_type": "code",
   "execution_count": null,
   "metadata": {
    "collapsed": false
   },
   "outputs": [],
   "source": [
    "new = a+b+c+d\n",
    "random.shuffle(new)\n",
    "a = new[0:3]\n",
    "b = new[3:6]\n",
    "c = new[6:9]\n",
    "d = new[9:12]"
   ]
  },
  {
   "cell_type": "code",
   "execution_count": 10,
   "metadata": {
    "collapsed": false
   },
   "outputs": [
    {
     "name": "stdout",
     "output_type": "stream",
     "text": [
      "Experiment began\n",
      "Finished Experiment\n"
     ]
    }
   ],
   "source": [
    "# Sensogram + Sound\n",
    "\n",
    "import csv\n",
    "import time\n",
    "import struct\n",
    "from PIL import Image\n",
    "import random\n",
    "\n",
    "%run _Functions.ipynb\n",
    "%run _Functions_Sound.ipynb\n",
    "%run _Functions_Sp.ipynb\n",
    "\n",
    "[picmatrix, pics] = DicLoadImages('syllables_armen.txt')\n",
    "voice = LoadImages('syllablesvoice.txt')\n",
    "# [picmatrix, pics] = DicLoadImages('Wordorder_sp_short.txt')\n",
    "# Chinesevoice = LoadImages('wordsvoice_short.txt')\n",
    "# picmatrix = LoadImages('Wordorder_sp_short.txt')\n",
    "# Chinesevoice = LoadImages('wordsvoice_short.txt')\n",
    "\n",
    "# Connect to Arduino\n",
    "# This will happen at the top of the sketch so I don't erase my buffer\n",
    "\n",
    "# bigoku = [7,23,34]\n",
    "# bulado = [9,35,13]\n",
    "# tadupa = [65,14,50]\n",
    "# datiba = [10,67,5]\n",
    "\n",
    "# Real sequences\n",
    "# a = [7,23,34]\n",
    "# b = [9,35,13]\n",
    "# c = [65,14,50]\n",
    "# d = [10,67,5]\n",
    "\n",
    "# Made up sequences\n",
    "a = [14, 67, 23]\n",
    "b = [34, 50, 7]\n",
    "c = [10, 9, 35]\n",
    "d = [13, 5, 65]\n",
    "\n",
    "# This comes from the Saffran paper, it's the first test done\n",
    "# Saffran_order = a+b+c+d+b+c+a+d+a+c+d+b+a+c+a+b+a+d+c+b+d+b+c+a+b+d+b+c+d+a+b+d+c+a+c+d+c+a+d+c+d+b+a+d+c+b+d+b+a+c+b+d+b+c+d+a+b+a+c+a+b+d+c+a+d+a+c+b+d+c+b+a+c+b+d+b+a+d+c+d+a+b+c+a+d+b+a+b+c+b+d+c+a+d+a+c+b+d+c+a+b+c+d+a+b+c+d+a+d+c+d+b+a+b+c+a+c+b+a+d\n",
    "Saffran_order = a+a\n",
    "# +b+c+d+a+d+c+b+a\n",
    "\n",
    "print('Experiment began')\n",
    "# This establishes serial communication and data sending\n",
    "\n",
    "from pydub import AudioSegment\n",
    "from pydub.playback import play as pplay\n",
    "time.sleep(0.5)\n",
    "for i in Saffran_order: # Loop through syllables of the experiment\n",
    "    # I could put here a white screen first to stabilize the code so it doesn't start up right away\n",
    "    \n",
    "    # Send the sensogram with the corresponding syllable\n",
    "    DicTestPattern(ser,i,picmatrix,pics)\n",
    "    \n",
    "    song = AudioSegment.from_file(','.join(voice[i]),format='m4a')\n",
    "    pplay(song)\n",
    "    # Arduino tells when it's finished sending the motor commands\n",
    "    t0 = time.time()\n",
    "    while(ser.readline() != b'done\\r\\n'):\n",
    "        if ((time.time() - t0) > 0.5):\n",
    "                t0 = time.time()\n",
    "                print(\"ein?\")\n",
    "    time.sleep(0.2)\n",
    "        \n",
    "print('Finished Experiment')"
   ]
  },
  {
   "cell_type": "code",
   "execution_count": 7,
   "metadata": {
    "collapsed": false
   },
   "outputs": [
    {
     "name": "stdout",
     "output_type": "stream",
     "text": [
      "Started Test\n",
      "Finished Test\n"
     ]
    }
   ],
   "source": [
    "# Sensogram + Sound Test\n",
    "\n",
    "import serial \n",
    "import csv\n",
    "import time\n",
    "import struct\n",
    "from PIL import Image\n",
    "import random\n",
    "\n",
    "%run _Functions.ipynb\n",
    "%run _Functions_Sound.ipynb\n",
    "%run _Functions_Sp.ipynb\n",
    "\n",
    "[picmatrix, pics] = DicLoadImages('syllables_armen.txt')\n",
    "voice = LoadImages('syllablesvoice.txt')\n",
    "# [picmatrix, pics] = DicLoadImages('Wordorder_sp_short.txt')\n",
    "# Chinesevoice = LoadImages('wordsvoice_short.txt')\n",
    "# picmatrix = LoadImages('Wordorder_sp_short.txt')\n",
    "# Chinesevoice = LoadImages('wordsvoice_short.txt')\n",
    "\n",
    "# Connect to Arduino\n",
    "# This will happen at the top of the sketch so I don't erase my buffer\n",
    "\n",
    "# bigoku = [7,23,34]\n",
    "# bulado = [9,35,13]\n",
    "# tadupa = [65,14,50]\n",
    "# datiba = [10,67,5]\n",
    "\n",
    "# order_new = bigoku+bulado+tadupa+datiba\n",
    "\n",
    "# ladobi = [35,13,7]\n",
    "# tibata = [67,5,65]\n",
    "# dobigo = [13,7,23]\n",
    "# dupabu = [14,50,9]\n",
    "\n",
    "# New order, never done it before!\n",
    "bigoku = [14, 67, 23]\n",
    "bulado = [34, 50, 7]\n",
    "tadupa = [10, 9, 35]\n",
    "datiba = [13, 5, 65]\n",
    "\n",
    "a = [14, 67, 23]\n",
    "b = [34, 50, 7]\n",
    "c = [10, 9, 35]\n",
    "d = [13, 5, 65]\n",
    "\n",
    "ladobi = [50,7,14]\n",
    "tibata = [5,65,10]\n",
    "dobigo = [7,14,67]\n",
    "dupabu = [9,35,34]\n",
    "\n",
    "test_order = bulado+ladobi+tibata+dobigo+bigoku+datiba+dupabu+tadupa+tibata+dobigo+dupabu+bigoku+bulado+ladobi+datiba+tadupa\n",
    "demo_order = bulado+ladobi+tibata+dobigo+bigoku+datiba+dupabu+tadupa\n",
    "single_test = tibata+ladobi+tibata+dobigo\n",
    "\n",
    "print('Started Test')\n",
    "count = 0\n",
    "string = []\n",
    "results = []\n",
    "\n",
    "from pydub import AudioSegment\n",
    "from pydub.playback import play as pplay\n",
    "\n",
    "t = 0\n",
    "for j in range(len(single_test)//3):\n",
    "    # This is here to stabilize all the first times the recording plays\n",
    "    time.sleep(0.5)\n",
    "    for i in single_test[t:t+3]:\n",
    "        DicTestPattern(ser,i,picmatrix,pics)\n",
    "    \n",
    "        song = AudioSegment.from_file(','.join(voice[i]),format='m4a')\n",
    "        pplay(song)\n",
    "        # Arduino tells when it's finished sending the motor commands\n",
    "        t0 = time.time()\n",
    "        while(ser.readline() != b'done\\r\\n'):\n",
    "            if ((time.time() - t0) > 0.5):\n",
    "                t0 = time.time()\n",
    "                print(\"ein?\")\n",
    "        string.append(i)\n",
    "        time.sleep(0.2)\n",
    "    selection = DicNoInput(i)\n",
    "        \n",
    "    JaoderNein(string,selection,a,b,c,d)\n",
    "    \n",
    "    time.sleep(1)\n",
    "    string = []\n",
    "    t = t+3\n",
    "# # This establishes serial communication and data sending\n",
    "# for i in single_test: # Loop through testing syllables of the experiment\n",
    "#     # I could put here a white screen first to stabilize the code so it doesn't start up right away\n",
    "    \n",
    "#     # Send the sensogram with the corresponding syllable\n",
    "#     DicTestPattern(ser,i,picmatrix,pics)\n",
    "    \n",
    "#     song = AudioSegment.from_file(','.join(voice[i]),format='m4a')\n",
    "#     pplay(song)\n",
    "#     # Arduino tells when it's finished sending the motor commands\n",
    "#     while(ser.readline() != b'done\\r\\n'):\n",
    "#         time.sleep(0.5)\n",
    "#         print(\"ein?\")\n",
    "    \n",
    "#     string.append(i)\n",
    "#     count = count+1\n",
    "#     if count == 3:\n",
    "#         # This section is only necessary if recording data on computer\n",
    "\n",
    "#         selection = DicNoInput(i)\n",
    "        \n",
    "#         JaoderNein(string,selection,a,b,c,d)\n",
    "#         ##\n",
    "        \n",
    "#         # Necessary to reboot the for loop\n",
    "#         time.sleep(1)\n",
    "#         count = 0\n",
    "#         string = []\n",
    "\n",
    "print('Finished Test')"
   ]
  },
  {
   "cell_type": "code",
   "execution_count": null,
   "metadata": {
    "collapsed": false
   },
   "outputs": [],
   "source": [
    "PrintScore(results)"
   ]
  },
  {
   "cell_type": "code",
   "execution_count": 56,
   "metadata": {
    "collapsed": false
   },
   "outputs": [
    {
     "name": "stdout",
     "output_type": "stream",
     "text": [
      "time has passed\n",
      "time has passed\n",
      "time has passed\n",
      "time has passed\n",
      "time has passed\n",
      "time has passed\n",
      "time has passed\n",
      "time has passed\n",
      "time has passed\n"
     ]
    },
    {
     "ename": "KeyboardInterrupt",
     "evalue": "",
     "output_type": "error",
     "traceback": [
      "\u001b[0;31m---------------------------------------------------------------------------\u001b[0m",
      "\u001b[0;31mKeyboardInterrupt\u001b[0m                         Traceback (most recent call last)",
      "\u001b[0;32m<ipython-input-56-bcecf80a5cba>\u001b[0m in \u001b[0;36m<module>\u001b[0;34m()\u001b[0m\n\u001b[1;32m      2\u001b[0m \u001b[0mt0\u001b[0m \u001b[0;34m=\u001b[0m \u001b[0mtime\u001b[0m\u001b[0;34m.\u001b[0m\u001b[0mtime\u001b[0m\u001b[0;34m(\u001b[0m\u001b[0;34m)\u001b[0m\u001b[0;34m\u001b[0m\u001b[0m\n\u001b[1;32m      3\u001b[0m \u001b[0;32mwhile\u001b[0m \u001b[0;32mTrue\u001b[0m\u001b[0;34m:\u001b[0m\u001b[0;34m\u001b[0m\u001b[0m\n\u001b[0;32m----> 4\u001b[0;31m     \u001b[0;32mif\u001b[0m \u001b[0;34m(\u001b[0m\u001b[0;34m(\u001b[0m\u001b[0mtime\u001b[0m\u001b[0;34m.\u001b[0m\u001b[0mtime\u001b[0m\u001b[0;34m(\u001b[0m\u001b[0;34m)\u001b[0m \u001b[0;34m-\u001b[0m \u001b[0mt0\u001b[0m\u001b[0;34m)\u001b[0m \u001b[0;34m>\u001b[0m \u001b[0;36m0.5\u001b[0m\u001b[0;34m)\u001b[0m\u001b[0;34m:\u001b[0m\u001b[0;34m\u001b[0m\u001b[0m\n\u001b[0m\u001b[1;32m      5\u001b[0m         \u001b[0mt0\u001b[0m \u001b[0;34m=\u001b[0m \u001b[0mtime\u001b[0m\u001b[0;34m.\u001b[0m\u001b[0mtime\u001b[0m\u001b[0;34m(\u001b[0m\u001b[0;34m)\u001b[0m\u001b[0;34m\u001b[0m\u001b[0m\n\u001b[1;32m      6\u001b[0m         \u001b[0mprint\u001b[0m\u001b[0;34m(\u001b[0m\u001b[0;34m\"time has passed\"\u001b[0m\u001b[0;34m)\u001b[0m\u001b[0;34m\u001b[0m\u001b[0m\n",
      "\u001b[0;31mKeyboardInterrupt\u001b[0m: "
     ]
    }
   ],
   "source": [
    "import time\n",
    "t0 = time.time()\n",
    "while True:\n",
    "    if ((time.time() - t0) > 0.5):\n",
    "        t0 = time.time()\n",
    "        print(\"time has passed\")"
   ]
  },
  {
   "cell_type": "code",
   "execution_count": null,
   "metadata": {
    "collapsed": true
   },
   "outputs": [],
   "source": []
  }
 ],
 "metadata": {
  "anaconda-cloud": {},
  "kernelspec": {
   "display_name": "Python [Root]",
   "language": "python",
   "name": "Python [Root]"
  },
  "language_info": {
   "codemirror_mode": {
    "name": "ipython",
    "version": 3
   },
   "file_extension": ".py",
   "mimetype": "text/x-python",
   "name": "python",
   "nbconvert_exporter": "python",
   "pygments_lexer": "ipython3",
   "version": "3.5.5"
  }
 },
 "nbformat": 4,
 "nbformat_minor": 0
}
