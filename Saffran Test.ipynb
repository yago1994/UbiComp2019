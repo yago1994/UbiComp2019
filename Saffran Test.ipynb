{
 "cells": [
  {
   "cell_type": "code",
   "execution_count": 1,
   "metadata": {
    "collapsed": true
   },
   "outputs": [],
   "source": [
    "# Open the port for the entire document so that everytime I operate a sketch it won't erase my buffer\n",
    "import serial \n",
    "ser = serial.Serial('/dev/cu.usbmodem14101',9600)"
   ]
  },
  {
   "cell_type": "code",
   "execution_count": 2,
   "metadata": {
    "collapsed": true
   },
   "outputs": [],
   "source": [
    "# Test Run\n",
    "# a = [10, 41, 36]\n",
    "# b = [60, 55, 5]\n",
    "# c = [17, 42, 34]\n",
    "# d = [39, 34, 55]\n",
    "# bigoku = [10, 41, 36]\n",
    "# bulado = [60, 55, 5]\n",
    "# tadupa = [17, 42, 34]\n",
    "\n",
    "# Control Run\n",
    "a = [7, 13, 23]\n",
    "b = [10,14,29]\n",
    "c = [37,8,54]\n",
    "bigoku = [7, 13, 23]\n",
    "bulado = [10,14,29]\n",
    "tadupa = [37,8,54]\n",
    "\n",
    "gokubu = bigoku[1:3]+[bulado[0]]\n",
    "ladota = bulado[1:3]+[tadupa[0]]\n",
    "dupabi = tadupa[1:3]+[bigoku[0]]\n",
    "\n",
    "# Made Up Sequences (just for testing purposes)\n",
    "# a = [5, 11, 26]\n",
    "# b = [9, 15, 25]\n",
    "# c = [13, 8, 60]\n",
    "d = [1, 1, 1]\n",
    "\n",
    "# This sets the initial testing order\n",
    "test_short_string = [bulado,gokubu,ladota,dupabi,bigoku,tadupa,ladota,dupabi,bigoku,bulado,gokubu,tadupa]"
   ]
  },
  {
   "cell_type": "code",
   "execution_count": null,
   "metadata": {
    "collapsed": false
   },
   "outputs": [],
   "source": [
    "# Sensogram + Sound\n",
    "\n",
    "import csv\n",
    "import time\n",
    "import struct\n",
    "from PIL import Image\n",
    "import random\n",
    "\n",
    "%run _Functions.ipynb\n",
    "%run _Functions_Sound.ipynb\n",
    "%run _Functions_Sp.ipynb\n",
    "\n",
    "[picmatrix, pics] = DicLoadImages('syllables_armen.txt')\n",
    "voice = LoadImages('syllablesvoice.txt')\n",
    "\n",
    "# Randomize which way the test starts to not allow memorizing effects from the first triad of syllables that appears\n",
    "startstring = a+b+c\n",
    "random.shuffle(startstring)\n",
    "# This comes from the Saffran paper, it's the first test done\n",
    "# Saffran_order = a+b+c+d+b+c+a+d+a+c+d+b+a+c+a+b+a+d+c+b+d+b+c+a+b+d+b+c+d+a+b+d+c+a+c+d+c+a+d+c+d+b+a+d+c+b+d+b+a+c+b+d+b+c+d+a+b+a+c+a+b+d+c+a+d+a+c+b+d+c+b+a+c+b+d+b+a+d+c+d+a+b+c+a+d+b+a+b+c+b+d+c+a+d+a+c+b+d+c+a+b+c+d+a+b+c+d+a+d+c+d+b+a+b+c+a+c+b+a+d\n",
    "Saffran_short = startstring+a+b+c+b+c+a+c+a+b+c+b+a+b+a+c+a+c+b+a+b+c+b+c+a+c+a+b+c+b+a+b+a+c+a+c+b+a+b+c+b+c+a+c+a+b+c+b+a+b+a+c+a+c+b+a+b+c+b+c+a+c+a+b+c+b+a+b+a+c+a+c+b+a+b+c+b+c+a+c+a+b+c+b+a+b+a+c+a+c+b\n",
    "\n",
    "print('Experiment began')\n",
    "# This establishes serial communication and data sending\n",
    "\n",
    "# if using pydub module\n",
    "from pydub import AudioSegment\n",
    "from pydub.playback import play as pplay\n",
    "\n",
    "# if using playsound module\n",
    "from playsound import playsound\n",
    "\n",
    "time.sleep(0.5)\n",
    "for i in Saffran_short: # Loop through syllables of the experiment\n",
    "    # I could put here a white screen first to stabilize the code so it doesn't start up right away\n",
    "    \n",
    "    # COMMENT THIS FOR CONTROL RUN\n",
    "    # Send the sensogram with the corresponding syllable\n",
    "    DicTestPattern(ser,i,picmatrix,pics)\n",
    "    \n",
    "    # if pydub\n",
    "    song = AudioSegment.from_file(','.join(voice[i]),format='m4a')\n",
    "    pplay(song)\n",
    "    \n",
    "    # if playsound\n",
    "#     song = voice[i]\n",
    "#     playsound(song[0])\n",
    "\n",
    "    # COMMENT THESE FOR CONTROL RUN\n",
    "    # Arduino tells when it's finished sending the motor commands\n",
    "    t0 = time.time()\n",
    "    while(ser.readline() != b'done\\r\\n'):\n",
    "        if ((time.time() - t0) > 0.5):\n",
    "                t0 = time.time()\n",
    "                print(\"ein?\")\n",
    "    ## UNTIL HERE\n",
    "    time.sleep(0.2)\n",
    "        \n",
    "print('Finished Experiment')"
   ]
  },
  {
   "cell_type": "code",
   "execution_count": 4,
   "metadata": {
    "collapsed": false
   },
   "outputs": [
    {
     "name": "stdout",
     "output_type": "stream",
     "text": [
      "Started Test\n",
      "Finished Test\n"
     ]
    }
   ],
   "source": [
    "# Sensogram + Sound Test\n",
    "\n",
    "import serial \n",
    "import csv\n",
    "import time\n",
    "import struct\n",
    "from PIL import Image\n",
    "import random\n",
    "\n",
    "%run _Functions.ipynb\n",
    "%run _Functions_Sound.ipynb\n",
    "%run _Functions_Sp.ipynb\n",
    "\n",
    "[picmatrix, pics] = DicLoadImages('syllables_armen.txt')\n",
    "voice = LoadImages('syllablesvoice.txt')\n",
    "\n",
    "# This assigns the order of words for the test\n",
    "test_short = []\n",
    "for x in test_short_string:\n",
    "    test_short = test_short+x\n",
    "    \n",
    "print('Started Test')\n",
    "count = 0\n",
    "string = []\n",
    "results = []\n",
    "yesno = []\n",
    "\n",
    "# If using pydub module\n",
    "from pydub import AudioSegment\n",
    "from pydub.playback import play as pplay\n",
    "\n",
    "# If using playsound module\n",
    "from playsound import playsound\n",
    "\n",
    "t = 0\n",
    "for j in range(len(test_short)//3):\n",
    "    # This is here to stabilize all the first times the recording plays\n",
    "    time.sleep(0.5)\n",
    "    for i in test_short[t:t+3]:\n",
    "        ## COMMENT THIS IF ARDUINO NOT CONNECTED\n",
    "        DicTestPattern(ser,i,picmatrix,pics)\n",
    "    \n",
    "        # if pydub\n",
    "        song = AudioSegment.from_file(','.join(voice[i]),format='m4a')\n",
    "        pplay(song)\n",
    "        \n",
    "        # if playsound\n",
    "#         song = voice[i]\n",
    "#         playsound(song[0])\n",
    "        ## COMMENT THESE IF ARDUINO NOT CONNECTED\n",
    "#         Arduino tells when it's finished sending the motor commands\n",
    "        t0 = time.time()\n",
    "        while(ser.readline() != b'done\\r\\n'):\n",
    "            if ((time.time() - t0) > 0.5):\n",
    "                t0 = time.time()\n",
    "                print(\"ein?\")\n",
    "        ## UNTIL HERE\n",
    "        string.append(i)\n",
    "        time.sleep(0.2)\n",
    "    selection = DicNoInput(i)\n",
    "    yesno.append(selection)    \n",
    "    JaoderNein(string,selection,a,b,c,d)\n",
    "    \n",
    "    time.sleep(1)\n",
    "    string = []\n",
    "    t = t+3\n",
    "\n",
    "print('Finished Test')"
   ]
  },
  {
   "cell_type": "code",
   "execution_count": 5,
   "metadata": {
    "collapsed": false,
    "scrolled": true
   },
   "outputs": [
    {
     "name": "stdout",
     "output_type": "stream",
     "text": [
      "5 correct out of 12 \n",
      "[1, 1, 1, 2, 2, 1, 1, 2, 2, 1, 1, 2]\n"
     ]
    }
   ],
   "source": [
    "PrintScore(results)\n",
    "print(yesno)"
   ]
  },
  {
   "cell_type": "code",
   "execution_count": null,
   "metadata": {
    "collapsed": false
   },
   "outputs": [],
   "source": [
    "# Run before re-running the experiment to measure learning performance\n",
    "new = a+b+c\n",
    "import random\n",
    "random.shuffle(new)\n",
    "a = new[0:3]\n",
    "b = new[3:6]\n",
    "c = new[6:9]\n",
    "bigoku = new[0:3]\n",
    "bulado = new[3:6]\n",
    "tadupa = new[6:9]\n",
    "gokubu = a[1:3]+[bulado[0]]\n",
    "ladota = b[1:3]+[tadupa[0]]\n",
    "dupabi = c[1:3]+[bigoku[0]]\n",
    "\n",
    "print(bigoku,bulado,tadupa,gokubu,ladota,dupabi)\n",
    "\n",
    "test_short_string = [bulado,gokubu,ladota,dupabi,bigoku,tadupa,ladota,dupabi,bigoku,bulado,gokubu,tadupa]"
   ]
  },
  {
   "cell_type": "code",
   "execution_count": null,
   "metadata": {
    "collapsed": false
   },
   "outputs": [],
   "source": [
    "# RUN EVERY TWO EXPERIMENTS \n",
    "# Flip order to avoid bias effects in response sequence in the test\n",
    "hlength = len(test_short_string)//2\n",
    "test_short_string = test_short_string[:hlength][::-1] + test_short_string[hlength:][::-1]\n",
    "print(test_short_string)"
   ]
  },
  {
   "cell_type": "code",
   "execution_count": null,
   "metadata": {
    "collapsed": false
   },
   "outputs": [],
   "source": [
    "random.shuffle(test_short_string)\n",
    "print(test_short_string)"
   ]
  },
  {
   "cell_type": "code",
   "execution_count": null,
   "metadata": {
    "collapsed": true
   },
   "outputs": [],
   "source": []
  }
 ],
 "metadata": {
  "anaconda-cloud": {},
  "kernelspec": {
   "display_name": "Python [Root]",
   "language": "python",
   "name": "Python [Root]"
  },
  "language_info": {
   "codemirror_mode": {
    "name": "ipython",
    "version": 3
   },
   "file_extension": ".py",
   "mimetype": "text/x-python",
   "name": "python",
   "nbconvert_exporter": "python",
   "pygments_lexer": "ipython3",
   "version": "3.5.5"
  }
 },
 "nbformat": 4,
 "nbformat_minor": 0
}
