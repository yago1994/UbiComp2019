{
 "cells": [
  {
   "cell_type": "code",
   "execution_count": 2,
   "metadata": {
    "collapsed": false
   },
   "outputs": [
    {
     "name": "stdout",
     "output_type": "stream",
     "text": [
      "Experiment began\n",
      "Finished Experiment\n"
     ]
    }
   ],
   "source": [
    "# Sensogram + Sound\n",
    "\n",
    "import serial \n",
    "import csv\n",
    "import time\n",
    "import struct\n",
    "from PIL import Image\n",
    "import random\n",
    "\n",
    "%run _Functions.ipynb\n",
    "%run _Functions_Sound.ipynb\n",
    "%run _Functions_Sp.ipynb\n",
    "\n",
    "[picmatrix, pics] = DicLoadImages('syllables_armen.txt')\n",
    "voice = LoadImages('syllablesvoice.txt')\n",
    "# [picmatrix, pics] = DicLoadImages('Wordorder_sp_short.txt')\n",
    "# Chinesevoice = LoadImages('wordsvoice_short.txt')\n",
    "# picmatrix = LoadImages('Wordorder_sp_short.txt')\n",
    "# Chinesevoice = LoadImages('wordsvoice_short.txt')\n",
    "\n",
    "# Connect to Arduino\n",
    "ser = serial.Serial('/dev/cu.usbmodem1411',9600)\n",
    "# ser = serial.Serial('/dev/cu.usbmodem52',9600)\n",
    "\n",
    "bigoku = [7,23,34]\n",
    "bulado = [9,35,13]\n",
    "tadupa = [65,14,50]\n",
    "datiba = [10,67,5]\n",
    "order_new = bigoku+bulado+tadupa+datiba\n",
    "\n",
    "a = [7,23,34]\n",
    "b = [9,35,13]\n",
    "c = [65,14,50]\n",
    "d = [10,67,5]\n",
    "# This comes from the Saffran paper, it's the first test done\n",
    "# Saffran_order = a+b+c+d+b+c+a+d+a+c+d+b+a+c+a+b+a+d+c+b+d+b+c+a+b+d+b+c+d+a+b+d+c+a+c+d+c+a+d+c+d+b+a+d+c+b+d+b+a+c+b+d+b+c+d+a+b+a+c+a+b+d+c+a+d+a+c+b+d+c+b+a+c+b+d+b+a+d+c+d+a+b+c+a+d+b+a+b+c+b+d+c+a+d+a+c+b+d+c+a+b+c+d+a+b+c+d+a+d+c+d+b+a+b+c+a+c+b+a+d\n",
    "Saffran_demo = a+b+c+d+b+c+d+a+d+c+b+a\n",
    "\n",
    "print('Experiment began')\n",
    "# This establishes serial communication and data sending\n",
    "for i in Saffran_demo: # Loop through 20 images for the experiment\n",
    "    # I could put here a white screen first to stabilize the code so it doesn't start up right away\n",
    "\n",
    "#     DicTestPattern(ser,i,picmatrix,pics)\n",
    "#     Send the sensogram with the corresponding syllable\n",
    "    SensogramnVoice(i,picmatrix,voice,ser,pics)\n",
    "\n",
    "#     time.sleep(0.5)\n",
    "print('Finished Experiment')\n",
    "\n",
    "# either SPEED UP SOMEHOW THE COMMUNICATION TO THE ARDUINO OR THE ARDUINO ITSELF, OR SEND FAT ARRAYS \n",
    "# THROUGH THE COM PORT AND HOPE IT DOESN'T CRASH, BUT THE AUDIO IS GOING TO BE DESYNCHRONIZED UNLESS\n",
    "# I FIX ON HARDWARE... WHICH I DON'T NECESSARILY WANT TO DO\n"
   ]
  },
  {
   "cell_type": "code",
   "execution_count": null,
   "metadata": {
    "collapsed": false
   },
   "outputs": [],
   "source": [
    "# Sensogram + Sound Test\n",
    "\n",
    "import serial \n",
    "import csv\n",
    "import time\n",
    "import struct\n",
    "from PIL import Image\n",
    "import random\n",
    "\n",
    "%run _Functions.ipynb\n",
    "%run _Functions_Sound.ipynb\n",
    "%run _Functions_Sp.ipynb\n",
    "\n",
    "[picmatrix, pics] = DicLoadImages('syllables_armen.txt')\n",
    "voice = LoadImages('syllablesvoice.txt')\n",
    "# [picmatrix, pics] = DicLoadImages('Wordorder_sp_short.txt')\n",
    "# Chinesevoice = LoadImages('wordsvoice_short.txt')\n",
    "# picmatrix = LoadImages('Wordorder_sp_short.txt')\n",
    "# Chinesevoice = LoadImages('wordsvoice_short.txt')\n",
    "\n",
    "# Connect to Arduino\n",
    "ser = serial.Serial('/dev/cu.usbmodem1411',9600)\n",
    "# ser = serial.Serial('/dev/cu.usbmodem52',9600)\n",
    "\n",
    "bigoku = [7,23,34]\n",
    "bulado = [9,35,13]\n",
    "tadupa = [65,14,50]\n",
    "datiba = [10,67,5]\n",
    "\n",
    "order_new = bigoku+bulado+tadupa+datiba\n",
    "\n",
    "ladobi = [35,13,7]\n",
    "tibata = [67,5,65]\n",
    "dobigo = [13,7,23]\n",
    "dupabu = [14,50,9]\n",
    "\n",
    "test_order = bulado+ladobi+tibata+dobigo+bigoku+datiba+dupabu+tadupa+tibata+dobigo+dupabu+bigoku+bulado+ladobi+datiba+tadupa\n",
    "demo_order = bulado+ladobi+tibata+dobigo+bigoku+datiba+dupabu+tadupa\n",
    "\n",
    "print('Started Experiment')\n",
    "count = 0\n",
    "string = []\n",
    "results = []\n",
    "# This establishes serial communication and data sending\n",
    "for i in test_order: # Loop through 20 images for the experiment\n",
    "    # I could put here a white screen first to stabilize the code so it doesn't start up right away\n",
    "    string.append(i)\n",
    "#     DicTestPattern(ser,i,picmatrix,pics)\n",
    "#     Display the picture corresponding to the pattern with the Chinese Character\n",
    "    DicTestSensoSaffran(i,voice,ser,pics,picmatrix,count,string)\n",
    "    \n",
    "#     DicTestSaffran(i,voice,pics,picmatrix,demo_order,count,string)\n",
    "    count = count+1\n",
    "    if count == 3:\n",
    "        count = 0\n",
    "        string = []\n",
    "\n",
    "#     time.sleep(0.5)\n",
    "print('Finished Experiment')\n",
    "\n",
    "#either SPEED UP SOMEHOW THE COMMUNICATION TO THE ARDUINO OR THE ARDUINO ITSELF, OR SEND FAT ARRAYS \n",
    "# THROUGH THE COM PORT AND HOPE IT DOESN'T CRASH, BUT THE AUDIO IS GOING TO BE DESYNCHRONIZED UNLESS\n",
    "# I FIX ON HARDWARE... WHICH I DON'T NECESSARILY WANT TO DO"
   ]
  },
  {
   "cell_type": "code",
   "execution_count": null,
   "metadata": {
    "collapsed": false
   },
   "outputs": [],
   "source": [
    "PrintScore(results)"
   ]
  },
  {
   "cell_type": "code",
   "execution_count": null,
   "metadata": {
    "collapsed": true
   },
   "outputs": [],
   "source": []
  }
 ],
 "metadata": {
  "anaconda-cloud": {},
  "kernelspec": {
   "display_name": "Python [Root]",
   "language": "python",
   "name": "Python [Root]"
  },
  "language_info": {
   "codemirror_mode": {
    "name": "ipython",
    "version": 3
   },
   "file_extension": ".py",
   "mimetype": "text/x-python",
   "name": "python",
   "nbconvert_exporter": "python",
   "pygments_lexer": "ipython3",
   "version": "3.5.5"
  }
 },
 "nbformat": 4,
 "nbformat_minor": 0
}
