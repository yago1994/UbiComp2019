{
 "cells": [
  {
   "cell_type": "code",
   "execution_count": 1,
   "metadata": {
    "collapsed": true
   },
   "outputs": [],
   "source": [
    "# Open the port for the entire document so that everytime I operate a sketch it won't erase my buffer\n",
    "import serial \n",
    "ser = serial.Serial('/dev/cu.usbmodem14101',9600)"
   ]
  },
  {
   "cell_type": "code",
   "execution_count": null,
   "metadata": {
    "collapsed": false
   },
   "outputs": [
    {
     "name": "stdout",
     "output_type": "stream",
     "text": [
      "Experiment began\n"
     ]
    }
   ],
   "source": [
    "# Sensogram + Sound\n",
    "\n",
    "import csv\n",
    "import time\n",
    "import struct\n",
    "from PIL import Image\n",
    "import random\n",
    "\n",
    "%run _Functions.ipynb\n",
    "%run _Functions_Sound.ipynb\n",
    "%run _Functions_Sp.ipynb\n",
    "\n",
    "[picmatrix, pics] = DicLoadImages('syllables_armen.txt')\n",
    "voice = LoadImages('syllablesvoice.txt')\n",
    "# [picmatrix, pics] = DicLoadImages('Wordorder_sp_short.txt')\n",
    "# Chinesevoice = LoadImages('wordsvoice_short.txt')\n",
    "# picmatrix = LoadImages('Wordorder_sp_short.txt')\n",
    "# Chinesevoice = LoadImages('wordsvoice_short.txt')\n",
    "\n",
    "# Connect to Arduino\n",
    "# This will happen at the top of the sketch so I don't erase my buffer\n",
    "\n",
    "# bigoku = [7,23,34]\n",
    "# bulado = [9,35,13]\n",
    "# tadupa = [65,14,50]\n",
    "# datiba = [10,67,5]\n",
    "\n",
    "# Real sequences\n",
    "# a = [10, 41, 36]\n",
    "# b = [60, 55, 5]\n",
    "# c = [17, 42, 34]\n",
    "# d = [39, 34, 55]\n",
    "\n",
    "# Made up sequences\n",
    "# a = [5, 11, 26]\n",
    "# b = [9, 15, 25]\n",
    "# c = [13, 8, 60]\n",
    "# d = [38, 31, 54]\n",
    "\n",
    "# Prior Test\n",
    "a = [7, 13, 23]\n",
    "b = [10,14,29]\n",
    "c = [37,8,54]\n",
    "\n",
    "# This comes from the Saffran paper, it's the first test done\n",
    "# Saffran_order = a+b+c+d+b+c+a+d+a+c+d+b+a+c+a+b+a+d+c+b+d+b+c+a+b+d+b+c+d+a+b+d+c+a+c+d+c+a+d+c+d+b+a+d+c+b+d+b+a+c+b+d+b+c+d+a+b+a+c+a+b+d+c+a+d+a+c+b+d+c+b+a+c+b+d+b+a+d+c+d+a+b+c+a+d+b+a+b+c+b+d+c+a+d+a+c+b+d+c+a+b+c+d+a+b+c+d+a+d+c+d+b+a+b+c+a+c+b+a+d\n",
    "Saffran_short = a+b+c+b+c+a+c+a+b+c+b+a+b+a+c+a+c+b+a+b+c+b+c+a+c+a+b+c+b+a+b+a+c+a+c+b+a+b+c+b+c+a+c+a+b+c+b+a+b+a+c+a+c+b+a+b+c+b+c+a+c+a+b+c+b+a+b+a+c+a+c+b+a+b+c+b+c+a+c+a+b+c+b+a+b+a+c+a+c+b\n",
    "\n",
    "print('Experiment began')\n",
    "# This establishes serial communication and data sending\n",
    "\n",
    "from pydub import AudioSegment\n",
    "from pydub.playback import play as pplay\n",
    "time.sleep(0.5)\n",
    "for i in Saffran_short: # Loop through syllables of the experiment\n",
    "    # I could put here a white screen first to stabilize the code so it doesn't start up right away\n",
    "    \n",
    "    # Send the sensogram with the corresponding syllable\n",
    "    DicTestPattern(ser,i,picmatrix,pics)\n",
    "    \n",
    "    song = AudioSegment.from_file(','.join(voice[i]),format='m4a')\n",
    "    pplay(song)\n",
    "    # Arduino tells when it's finished sending the motor commands\n",
    "    t0 = time.time()\n",
    "    while(ser.readline() != b'done\\r\\n'):\n",
    "        if ((time.time() - t0) > 0.5):\n",
    "                t0 = time.time()\n",
    "                print(\"ein?\")\n",
    "    time.sleep(0.2)\n",
    "        \n",
    "print('Finished Experiment')"
   ]
  },
  {
   "cell_type": "code",
   "execution_count": 4,
   "metadata": {
    "collapsed": false
   },
   "outputs": [
    {
     "name": "stdout",
     "output_type": "stream",
     "text": [
      "Started Test\n",
      "Finished Test\n"
     ]
    }
   ],
   "source": [
    "# Sensogram + Sound Test\n",
    "\n",
    "import serial \n",
    "import csv\n",
    "import time\n",
    "import struct\n",
    "from PIL import Image\n",
    "import random\n",
    "\n",
    "%run _Functions.ipynb\n",
    "%run _Functions_Sound.ipynb\n",
    "%run _Functions_Sp.ipynb\n",
    "\n",
    "[picmatrix, pics] = DicLoadImages('syllables_armen.txt')\n",
    "voice = LoadImages('syllablesvoice.txt')\n",
    "\n",
    "# Connect to Arduino\n",
    "# This will happen at the top of the sketch so I don't erase my buffer\n",
    "\n",
    "# bigoku = [7,23,34]\n",
    "# bulado = [9,35,13]\n",
    "# tadupa = [65,14,50]\n",
    "# datiba = [10,67,5]\n",
    "\n",
    "# order_new = bigoku+bulado+tadupa+datiba\n",
    "\n",
    "# ladobi = [35,13,7]\n",
    "# tibata = [67,5,65]\n",
    "# dobigo = [13,7,23]\n",
    "# dupabu = [14,50,9]\n",
    "\n",
    "# Prior to Training order\n",
    "bigoku = [7, 13, 23]\n",
    "bulado = [10,14,29]\n",
    "tadupa = [37,8,54]\n",
    "a = [7,13,23]\n",
    "b = [10,14,29]\n",
    "c = [37,8,54]\n",
    "gokubu = [13,23,10]\n",
    "ladota = [14,29,37]\n",
    "dupabi = [8,54,7]\n",
    "\n",
    "# Short Order\n",
    "# bigoku = [10, 41, 36]\n",
    "# bulado = [60, 55, 5]\n",
    "# tadupa = [17, 42, 34]\n",
    "# a = [10, 41, 36]\n",
    "# b = [60, 55, 5]\n",
    "# c = [17, 42, 34]\n",
    "# gokubu = [41,36,60]\n",
    "# ladota = [55,5,17]\n",
    "# dupabi = [17,42,10]\n",
    "\n",
    "# Order from Training\n",
    "# bigoku = [5, 11, 26]\n",
    "# bulado = [9, 15, 25]\n",
    "# tadupa = [13, 8, 60]\n",
    "# datiba = [38, 31, 54]\n",
    "# a = [5, 11, 26]\n",
    "# b = [9, 15, 25]\n",
    "# c = [13, 8, 60]\n",
    "d = [38, 31, 54]\n",
    "# ladobi = [15,25,5]\n",
    "# tibata = [38,31,13]\n",
    "# dobigo = [25,5,11]\n",
    "# dupabu = [8,60,9]\n",
    "\n",
    "# New order, let's take a look\n",
    "\n",
    "# test_order = bulado+ladobi+tibata+dobigo+bigoku+datiba+dupabu+tadupa+tibata+dobigo+dupabu+bigoku+bulado+ladobi+datiba+tadupa\n",
    "test_short = bulado+gokubu+ladota+dupabi+bigoku+tadupa+ladota+dupabi+bigoku+bulado+gokubu+tadupa\n",
    "\n",
    "# demo_order = bulado+ladobi+tibata+dobigo+bigoku+datiba+dupabu+tadupa\n",
    "# single_test = tibata+ladobi+tibata+dobigo\n",
    "\n",
    "print('Started Test')\n",
    "count = 0\n",
    "string = []\n",
    "results = []\n",
    "\n",
    "from pydub import AudioSegment\n",
    "from pydub.playback import play as pplay\n",
    "\n",
    "t = 0\n",
    "for j in range(len(test_short)//3):\n",
    "    # This is here to stabilize all the first times the recording plays\n",
    "    time.sleep(0.5)\n",
    "    for i in test_short[t:t+3]:\n",
    "        DicTestPattern(ser,i,picmatrix,pics)\n",
    "    \n",
    "        song = AudioSegment.from_file(','.join(voice[i]),format='m4a')\n",
    "        pplay(song)\n",
    "        # Arduino tells when it's finished sending the motor commands\n",
    "        t0 = time.time()\n",
    "        while(ser.readline() != b'done\\r\\n'):\n",
    "            if ((time.time() - t0) > 0.5):\n",
    "                t0 = time.time()\n",
    "                print(\"ein?\")\n",
    "        string.append(i)\n",
    "        time.sleep(0.2)\n",
    "    selection = DicNoInput(i)\n",
    "        \n",
    "    JaoderNein(string,selection,a,b,c,d)\n",
    "    \n",
    "    time.sleep(1)\n",
    "    string = []\n",
    "    t = t+3\n",
    "\n",
    "print('Finished Test')"
   ]
  },
  {
   "cell_type": "code",
   "execution_count": 5,
   "metadata": {
    "collapsed": false
   },
   "outputs": [
    {
     "name": "stdout",
     "output_type": "stream",
     "text": [
      "8 correct out of 12 \n"
     ]
    }
   ],
   "source": [
    "PrintScore(results)"
   ]
  },
  {
   "cell_type": "code",
   "execution_count": null,
   "metadata": {
    "collapsed": false
   },
   "outputs": [],
   "source": [
    "# Only run when you want to shift the words of the experiment after trying out the baseline condition\n",
    "new = a+b+c+d\n",
    "random.shuffle(new)\n",
    "a = new[0:3]\n",
    "b = new[3:6]\n",
    "c = new[6:9]\n",
    "d = new[9:12]"
   ]
  },
  {
   "cell_type": "code",
   "execution_count": null,
   "metadata": {
    "collapsed": true
   },
   "outputs": [],
   "source": []
  }
 ],
 "metadata": {
  "anaconda-cloud": {},
  "kernelspec": {
   "display_name": "Python [Root]",
   "language": "python",
   "name": "Python [Root]"
  },
  "language_info": {
   "codemirror_mode": {
    "name": "ipython",
    "version": 3
   },
   "file_extension": ".py",
   "mimetype": "text/x-python",
   "name": "python",
   "nbconvert_exporter": "python",
   "pygments_lexer": "ipython3",
   "version": "3.5.5"
  }
 },
 "nbformat": 4,
 "nbformat_minor": 0
}
