{
 "cells": [
  {
   "cell_type": "code",
   "execution_count": 1,
   "metadata": {
    "collapsed": true
   },
   "outputs": [],
   "source": [
    "# Open the port for the entire document so that everytime I operate a sketch it won't erase my buffer\n",
    "import serial \n",
    "ser = serial.Serial('/dev/cu.usbmodem1411',9600)\n",
    "\n",
    "%run _Functions.ipynb\n",
    "%run _Functions_Sound.ipynb\n",
    "%run _Functions_Sp.ipynb"
   ]
  },
  {
   "cell_type": "code",
   "execution_count": 2,
   "metadata": {
    "collapsed": false
   },
   "outputs": [],
   "source": [
    "# Sessions coded by syllables shown, 10 repetitions each\n",
    "Session_1 = [5,5,5,5,5,5,5,5,5,5,7,7,7,7,7,7,7,7,7,7,9,9,9,9,9,9,9,9,9,9]\n",
    "Session_2 = Session_1 + [10,10,10,10,10,10,10,10,10,10,13,13,13,13,13,13,13,13,13,13,14,14,14,14,14,14,14,14,14,14]\n",
    "Session_3 = Session_2 + [23,23,23,23,23,23,23,23,23,23,34,34,34,34,34,34,34,34,34,34,35,35,35,35,35,35,35,35,35,35]\n",
    "Session_4 = Session_3 + [50,50,50,50,50,50,50,50,50,50,65,65,65,65,65,65,65,65,65,65,67,67,67,67,67,67,67,67,67,67]\n",
    "Session_5 = Session_4"
   ]
  },
  {
   "cell_type": "code",
   "execution_count": 59,
   "metadata": {
    "collapsed": false
   },
   "outputs": [
    {
     "name": "stdout",
     "output_type": "stream",
     "text": [
      "Experiment began\n",
      "Your syllable options are:\n",
      " ['ba', 'bi', 'bu', 'da', 'do', 'du', 'go', 'ku', 'la']\n",
      "ku\n",
      "ku\n",
      "ba\n",
      "ku\n",
      "la\n",
      "ku\n",
      "ku\n",
      "ba\n",
      "ba\n",
      "da\n",
      "Finished Experiment\n"
     ]
    }
   ],
   "source": [
    "# Sensogram + Sound\n",
    "\n",
    "import csv\n",
    "import time\n",
    "import struct\n",
    "from PIL import Image\n",
    "import random\n",
    "\n",
    "# Load the syllables available and the voice recordings\n",
    "[picmatrix, pics] = DicLoadImages('syllables_armen.txt')\n",
    "voice = LoadImages('syllablesvoice.txt')\n",
    "\n",
    "# Connect to Arduino - at the top of the sketch so I don't erase my buffer every rerun\n",
    "\n",
    "# This is the syllables that will be trained on this session\n",
    "Training_order = Session_3\n",
    "\n",
    "print('Experiment began')\n",
    "\n",
    "from pydub import AudioSegment\n",
    "from pydub.playback import play as pplay\n",
    "time.sleep(0.5)\n",
    "t = 0\n",
    "# Print list of available syllables in the experiment\n",
    "print('Your syllable options are:\\n',[pics[x] for x in np.unique(Training_order)])\n",
    "\n",
    "# Loop x times through training (i.e. 10 times overall?)\n",
    "for i in range(10): # Loop through syllables of the experiment\n",
    "    # This stabilizes the first syllable that comes out & \n",
    "    if t == 0:\n",
    "        time.sleep(0.5)\n",
    "#     elif t % 10 == 0:\n",
    "#         time.sleep(1)\n",
    "    t = t+1\n",
    "    # Input desired syllable\n",
    "    w = input()\n",
    "    # syllables-to-number coding\n",
    "    if w == 'ba':\n",
    "        i = 5\n",
    "    elif w == 'bi':\n",
    "        i = 7\n",
    "    elif w == 'bu':\n",
    "        i = 9\n",
    "    elif w == 'da':\n",
    "        i = 10\n",
    "    elif w == 'do':\n",
    "        i = 13\n",
    "    elif w == 'du':\n",
    "        i = 14\n",
    "    elif w == 'go':\n",
    "        i = 23\n",
    "    elif w == 'ku':\n",
    "        i = 34\n",
    "    elif w == 'la':\n",
    "        i = 35\n",
    "    elif w == 'pa':\n",
    "        i = 50\n",
    "    elif w == 'ta':\n",
    "        i = 65\n",
    "    elif w == 'ti':\n",
    "        i = 67\n",
    "    else:\n",
    "        print('syllable not in test')\n",
    "        i = 48 # This one corresponds to No\n",
    "    # Send the sensogram with the corresponding syllable\n",
    "    DicTestPattern(ser,i,picmatrix,pics)\n",
    "    \n",
    "    # Play the syllable associated\n",
    "    song = AudioSegment.from_file(','.join(voice[i]),format='m4a')\n",
    "    pplay(song)\n",
    "    # Arduino tells when it's finished sending the motor commands\n",
    "    t0 = time.time()\n",
    "    while(ser.readline() != b'done\\r\\n'):\n",
    "        if ((time.time() - t0) > 0.5):\n",
    "                t0 = time.time()\n",
    "                print(\"ein?\")\n",
    "    time.sleep(0.2)\n",
    "        \n",
    "print('Finished Experiment')"
   ]
  },
  {
   "cell_type": "code",
   "execution_count": 61,
   "metadata": {
    "collapsed": false
   },
   "outputs": [
    {
     "name": "stdout",
     "output_type": "stream",
     "text": [
      "Started Test\n",
      "Your syllable options are:\n",
      " ['ba', 'bi', 'bu', 'da', 'do', 'du', 'go', 'ku', 'la']\n",
      "do\n",
      "No\n",
      "ba\n",
      "Yes!\n",
      "bi\n",
      "Yes!\n",
      "da\n",
      "No\n",
      "bu\n",
      "Yes!\n",
      "do\n",
      "Yes!\n",
      "go\n",
      "No\n",
      "ku\n",
      "No\n",
      "la\n",
      "No\n",
      "Finished Test\n"
     ]
    }
   ],
   "source": [
    "# Sensogram + Sound Test\n",
    "\n",
    "import serial \n",
    "import csv\n",
    "import time\n",
    "import struct\n",
    "from PIL import Image\n",
    "import random\n",
    "import numpy as np\n",
    "\n",
    "# Load the syllables available and the voice recordings\n",
    "[picmatrix, pics] = DicLoadImages('syllables_armen.txt')\n",
    "voice = LoadImages('syllablesvoice.txt')\n",
    "\n",
    "# Test order according to Session_#, modify according to which session it's done\n",
    "Test_order = np.unique(Session_3)\n",
    "random.shuffle(Test_order)\n",
    "\n",
    "print('Started Test')\n",
    "# Load empty results array\n",
    "results = []\n",
    "\n",
    "# Print list of available syllables in the experiment\n",
    "print('Your syllable options are:\\n',[pics[x] for x in np.unique(Training_order)])\n",
    "\n",
    "from pydub import AudioSegment\n",
    "from pydub.playback import play as pplay\n",
    "\n",
    "# Loop x times according to the syllables in the Session\n",
    "for j in Test_order:\n",
    "    # This stabilizes all the first times the recording plays\n",
    "    time.sleep(0.5)\n",
    "    \n",
    "    # Send the sensogram with the corresponding syllable\n",
    "    DicTestPattern(ser,j,picmatrix,pics)\n",
    "    # Open user input window\n",
    "    w = input()\n",
    "    # Check if the input syllable corresponds to what was sent\n",
    "    if w == pics[j]:\n",
    "        print('Yes!')\n",
    "    else:\n",
    "        print('No, the correct answer was: % s' % (pics[j]))\n",
    "    \n",
    "#     song = AudioSegment.from_file(','.join(voice[i]),format='m4a')\n",
    "#     pplay(song)\n",
    "    # Arduino tells when it's finished sending the motor commands\n",
    "    t0 = time.time()\n",
    "    while(ser.readline() != b'done\\r\\n'):\n",
    "        if ((time.time() - t0) > 0.5):\n",
    "            t0 = time.time()\n",
    "            print(\"ein?\")\n",
    "#     string.append(i)\n",
    "    time.sleep(0.2)\n",
    "#     selection = DicNoInput(i)\n",
    "        \n",
    "#     JaoderNein(string,selection,a,b,c,d)\n",
    "\n",
    "print('Finished Test')"
   ]
  },
  {
   "cell_type": "code",
   "execution_count": null,
   "metadata": {
    "collapsed": false
   },
   "outputs": [],
   "source": [
    "DicTestPattern(ser,5,picmatrix,pics)\n",
    "DicTestPattern(ser,7,picmatrix,pics)\n",
    "DicTestPattern(ser,9,picmatrix,pics)"
   ]
  }
 ],
 "metadata": {
  "anaconda-cloud": {},
  "kernelspec": {
   "display_name": "Python [Root]",
   "language": "python",
   "name": "Python [Root]"
  },
  "language_info": {
   "codemirror_mode": {
    "name": "ipython",
    "version": 3
   },
   "file_extension": ".py",
   "mimetype": "text/x-python",
   "name": "python",
   "nbconvert_exporter": "python",
   "pygments_lexer": "ipython3",
   "version": "3.5.5"
  }
 },
 "nbformat": 4,
 "nbformat_minor": 0
}
