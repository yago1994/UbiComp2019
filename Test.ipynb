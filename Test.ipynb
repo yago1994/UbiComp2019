{
 "cells": [
  {
   "cell_type": "code",
   "execution_count": 1,
   "metadata": {
    "collapsed": false
   },
   "outputs": [
    {
     "name": "stdout",
     "output_type": "stream",
     "text": [
      "b'ready\\r\\n'\n",
      "b','\n",
      "Im sending 13 200\n",
      "Im sending 3 100\n",
      "Im sending 13 200\n",
      "Im sending 4 100\n",
      "Im sending 13 200\n",
      "Im sending 5 100\n",
      "Im sending 13 200\n",
      "Im sending 6 100\n",
      "Im sending 13 200\n",
      "Im sending 7 100\n",
      "Im sending 13 200\n",
      "Im sending 8 100\n",
      "Im sending 13 200\n",
      "Im sending 9 100\n",
      "Im sending 13 200\n",
      "Im sending 10 100\n",
      "Im sending 13 200\n",
      "Im sending 11 100\n",
      "Im sending 13 200\n",
      "Im sending 12 100\n",
      "Im sending 13 200\n"
     ]
    }
   ],
   "source": [
    "# This is an initial device test run to see if the user feels all the nodes or if they need adjustmet\n",
    "\n",
    "import serial \n",
    "import csv\n",
    "import time\n",
    "import struct\n",
    "\n",
    "\n",
    "testmatrix = []\n",
    "num = 0\n",
    "# with open('C:/Users/santiago.arconada/Downloads/sensogram.txt') as csvfile:\n",
    "with open('sensogram.txt') as csvfile:\n",
    "    inputfile = csv.reader(csvfile)\n",
    "    for row in inputfile:\n",
    "        testmatrix.append(row)\n",
    "        for i in range(len(row)):\n",
    "            testmatrix[num][i] = int(row[i])\n",
    "        num = num+1    \n",
    "        # At this point we get all values in packets of data being integer, good job, had to loop through each array\n",
    "        # as it comes in to convert it from a string to an integer.\n",
    "\n",
    "# Might have to change the tty.usbserial to Mac specific address\n",
    "ser = serial.Serial('/dev/cu.usbmodem1411',9600)\n",
    "# ser = serial.Serial('/dev/cu.usbmodem53',9600)\n",
    "\n",
    "node_matrix = []\n",
    "\n",
    "# This section is for parsing the data inside the testmatrix\n",
    "activ_array_new = []\n",
    "# Counter = [13,50,5,50,7,50,8,50,9,50,13,50,10,50,11,50,6,50,13,50]\n",
    "# Test run for all the nodes in a sequence\n",
    "strength = 100\n",
    "Counter = [13,200,3,strength,13,200,4,strength,13,200,5,strength,13,200,6,strength,13,200,7,strength,13,200,8,strength,13,200,9,strength,13,200,10,strength,13,200,11,strength,13,200,12,strength,13,200,13,strength]\n",
    "b = 0\n",
    "\n",
    "while b<1:\n",
    "\n",
    "    line = ser.readline()\n",
    "    print(line)\n",
    "    if (ser.readline() == b'ready\\r\\n'):\n",
    "        ser.write(b'1') # Need to include the b so that data can be sent\n",
    "                        # this is python 3 syntax\n",
    "#         ser.write(b'1') # This will be the initiate Serial listening command\n",
    "            \n",
    "        ser.write(struct.pack('>B', len(Counter))) # Something is working here, but I am not sure what it is haha\n",
    "        print(struct.pack('>B', len(Counter)))\n",
    "        c = 0\n",
    "#         for y in range(len(Counter)//2):\n",
    "        for y in range(21):\n",
    "            ser.write(struct.pack('>B', Counter[c]))\n",
    "            ser.write(struct.pack('>B', Counter[c+1]))\n",
    "            print('Im sending %d %d' % (Counter[c], Counter[c+1]))\n",
    "            c = c+2\n",
    "#         ser.write(b Counter '\\r') # This defines how many to wait for\n",
    "        time.sleep(0.2)\n",
    "    else:\n",
    "        time.sleep(0.2)\n",
    "            \n",
    "    # So this part of the code is what defines the reading speed of the 'control board'\n",
    "    # Each 100ms it checks the serial to see if there are any responses from the \"display board\"\n",
    "#   # This way I can send values only when the Arduino is ready.\n",
    "# ser.close()\n",
    "    b = b+1"
   ]
  },
  {
   "cell_type": "code",
   "execution_count": null,
   "metadata": {
    "collapsed": false
   },
   "outputs": [],
   "source": [
    "Counter = [9,40,1,20,5,60]\n",
    "print(Counter[0])\n",
    "print(struct.pack('>B', 12))\n",
    "for i in range(3):\n",
    "    print(i)"
   ]
  },
  {
   "cell_type": "code",
   "execution_count": null,
   "metadata": {
    "collapsed": false
   },
   "outputs": [],
   "source": [
    "activ_array_new = []\n",
    "for i in range(1):\n",
    "    activ_array = []\n",
    "    for q in range(7):\n",
    "        if (testmatrix[i][testmatrix[i][q+6]] == 1):\n",
    "            activ_array.append(testmatrix[i][q+6])\n",
    "            activ_array.append(testmatrix[i][q+13])\n",
    "    activ_array_new.append(activ_array) # We could send this as a packet of data to the Arduino (node,delay)\n",
    "    print(activ_array)\n",
    "    print(len(activ_array))\n",
    "\n",
    "    Counter = len(activ_array) # How many values am I sending\n",
    "    print('Counter is', Counter)\n",
    "#     ser.write(Counter)\n",
    "    n = 0\n",
    "    for j in range(Counter//2):\n",
    "        print('Node %d and delay %d', activ_array_new[i][n], activ_array_new[i][n+1]) # Substitute this by sending value on Serial\n",
    "        #ser.write(activ_array_new[i][j] 0D 0A)\n",
    "        n = n+2"
   ]
  },
  {
   "cell_type": "code",
   "execution_count": null,
   "metadata": {
    "collapsed": true
   },
   "outputs": [],
   "source": [
    "# print(testmatrix)"
   ]
  },
  {
   "cell_type": "code",
   "execution_count": null,
   "metadata": {
    "collapsed": false
   },
   "outputs": [],
   "source": [
    "# Code for the Arduino\n",
    "\n",
    "void setup() {\n",
    "pinMode(3,OUTPUT);\n",
    "# And all others\n",
    "Serial.begin(9600);\n",
    "}\n",
    "\n",
    "void loop() {\n",
    "    if (Serial.available()) {\n",
    "        while (# Command to start communication isn't there yet) {\n",
    "            # Just wait\n",
    "            }\n",
    "            \n",
    "        values = #read incoming data with count of how many im doing\n",
    "        for (i=0; i<values,i++) {\n",
    "            node_array[i] = #serialdata;\n",
    "            delay_array[i] = #serialdata;\n",
    "        }\n",
    "        \n",
    "        # Maybe I could combine these two for loops together\n",
    "        \n",
    "        # for loop reading x values of the serial\n",
    "        for (i=0; i<values,i++) {\n",
    "            digitalWrite(node_array[i],HIGH);\n",
    "            # Maybe put a print to test out if it works\n",
    "            delay(delay_array[i]);\n",
    "            digitalWrite(node_array[i],LOW);\n",
    "        }\n",
    "        Serial.write('done'); # To tell python that we are done with the sequence\n",
    "    }\n",
    "}\n",
    "\n"
   ]
  },
  {
   "cell_type": "code",
   "execution_count": null,
   "metadata": {
    "collapsed": false
   },
   "outputs": [],
   "source": [
    "# This code is to be run as the final version, but I don't want to modify the code that works already above\n",
    "# so I will use this as my testing platform\n",
    "\n",
    "import serial \n",
    "import csv\n",
    "import time\n",
    "import struct\n",
    "from PIL import Image\n",
    "import random\n",
    "\n",
    "%run _Functions.ipynb\n",
    "\n",
    "testmatrix = LoadSensogram()\n",
    "\n",
    "picmatrix = LoadImages('Picorder.txt')\n",
    "\n",
    "# Connect to Arduino\n",
    "ser = serial.Serial('/dev/cu.usbmodem1421',9600)\n",
    "\n",
    "sampledown = 0\n",
    "sampleup = 6\n",
    "\n",
    "# # Define order array, need to change this up for the second round, i.e range(10,20)\n",
    "order = list(range(sampledown,sampleup))\n",
    "# Randomize the order\n",
    "random.shuffle(order)\n",
    "\n",
    "# This establishes serial communication and data sending\n",
    "for i in order: # Loop through 20 images for the experiment\n",
    "    TestPattern(ser,testmatrix,i)\n",
    "    img = Image.open(','.join(picmatrix[i]))\n",
    "    img.show()\n",
    "    time.sleep(2)\n"
   ]
  },
  {
   "cell_type": "code",
   "execution_count": null,
   "metadata": {
    "collapsed": false
   },
   "outputs": [],
   "source": [
    "# This is the testing code, used to run through the patterns but not displaying the associated\n",
    "# image, that the user will select among 5 presented.\n",
    "\n",
    "import serial \n",
    "import random\n",
    "\n",
    "%run _Functions.ipynb\n",
    "\n",
    "testmatrix = LoadSensogram()\n",
    "\n",
    "picmatrix = LoadImages('Picorder.txt')\n",
    "\n",
    "# Connect to Arduino\n",
    "ser = serial.Serial('/dev/cu.usbmodem1421',9600)\n",
    "# ser = 'hi'\n",
    "\n",
    "# Define the results matrix\n",
    "results = []\n",
    "\n",
    "# Re-randomize for testing round, need to change this up for the second round, i.e range(10,20)\n",
    "order = list(range(sampledown,sampleup))\n",
    "# Randomize the order\n",
    "random.shuffle(order)\n",
    "\n",
    "# This establishes serial communication and data sending\n",
    "for i in order:\n",
    "    \n",
    "    TestPattern(ser,testmatrix,i)\n",
    "    # MIGHT HAVE TO REDUCE THE DELAY TIME, IT IS TOO MUCH, OR MAYBE MOVE THE TEST FUNCTION UP\n",
    "    time.sleep(1.5)    \n",
    "    #After the data has been sent to the sensogram display the pictures and test the subject\n",
    "    TestFunction(i,picmatrix,order)\n",
    "    time.sleep(0.5)"
   ]
  },
  {
   "cell_type": "code",
   "execution_count": null,
   "metadata": {
    "collapsed": false
   },
   "outputs": [],
   "source": [
    "PrintScore(results)\n",
    "DetailedInfo(results,order,1)"
   ]
  },
  {
   "cell_type": "code",
   "execution_count": null,
   "metadata": {
    "collapsed": true
   },
   "outputs": [],
   "source": []
  }
 ],
 "metadata": {
  "anaconda-cloud": {},
  "kernelspec": {
   "display_name": "Python [Root]",
   "language": "python",
   "name": "Python [Root]"
  },
  "language_info": {
   "codemirror_mode": {
    "name": "ipython",
    "version": 3
   },
   "file_extension": ".py",
   "mimetype": "text/x-python",
   "name": "python",
   "nbconvert_exporter": "python",
   "pygments_lexer": "ipython3",
   "version": "3.5.5"
  }
 },
 "nbformat": 4,
 "nbformat_minor": 2
}
